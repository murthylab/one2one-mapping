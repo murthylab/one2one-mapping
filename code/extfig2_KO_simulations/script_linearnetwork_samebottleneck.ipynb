{
  "nbformat": 4,
  "nbformat_minor": 0,
  "metadata": {
    "colab": {
      "provenance": []
    },
    "kernelspec": {
      "name": "python3",
      "display_name": "Python 3"
    },
    "language_info": {
      "name": "python"
    }
  },
  "cells": [
    {
      "cell_type": "markdown",
      "source": [
        "#Simulation for knockout training:\n",
        "**Two-layer linear network, same bottleneck**\n",
        "\n",
        "\n",
        "Idea:\n",
        "Treat a ground truth model (two-layer linear network) as the fruit fly that we'll perturb.\n",
        "We will generate control and silenced data from this ground truth model.\n",
        "\n",
        "We will then train two models on this data:\n",
        "\n",
        "\n",
        "*   KO network --- two-layer linear network trained with knockout\n",
        "*   noKO network --- two-layer linear network trained *without* knockout\n",
        "\n",
        "We will then evaluate the KO and noKO networks' abilities to recover the behavior of the silenced ground truth model as well as its internal activity.\n",
        "\n",
        "Our prediction is that only the KO network should be able to recover both of these quantities.\n",
        "\n",
        "This simulation follows that in Extended Data Figure 2a-c in our paper \"Mapping model units to visual neurons reveals population code for social behaviour.\", Cowley, B.R., Calhoun, A.J., Rangarajan, N., Ireland, E., Turner, M.H., Pillow, J.W. and Murthy, M., 2024. *Nature*, pp.1-9.\n"
      ],
      "metadata": {
        "id": "zE_KSXo8iUFQ"
      }
    },
    {
      "cell_type": "code",
      "source": [
        "# import statements\n",
        "\n",
        "import numpy as np\n",
        "import tensorflow as tf\n",
        "\n",
        "from keras import backend as K\n",
        "from keras import utils\n",
        "from keras.models import Model\n",
        "from keras import layers\n",
        "\n",
        "from keras.layers import Activation, BatchNormalization, Dense, Flatten, Input, Multiply\n",
        "from keras.optimizers import Adam\n",
        "\n",
        "import matplotlib.pyplot as plt"
      ],
      "metadata": {
        "id": "5d4BMLjxkvNI"
      },
      "execution_count": 1,
      "outputs": []
    },
    {
      "cell_type": "markdown",
      "source": [
        "# Helper functions"
      ],
      "metadata": {
        "id": "L5bPxc11lGWc"
      }
    },
    {
      "cell_type": "code",
      "source": [
        "### HELPER FUNCTIONS\n",
        "\n",
        "def initialize_network(num_input_variables=48, num_hidden_units=8):\n",
        "  # initializes a two-layer linear network that outputs a single variable\n",
        "  #\n",
        "  # INPUT:\n",
        "  #  num_input_variables: (int), number of input feature variables (default=48)\n",
        "  #  num_hidden units: (int), number of hidden units in middle layer (default=8)\n",
        "  # OUTPUT:\n",
        "  #  model: (Keras instance), outputs a Keras model\n",
        "\n",
        "  x_input = Input(shape=(num_input_variables,), name='input')\n",
        "  x_mask = Input(shape=(num_hidden_units,), name='mask')\n",
        "\n",
        "  # define network  (input includes a 'mask' to inactivate or \"knock out\" certain hidden units)\n",
        "  x = Dense(units=num_hidden_units, name='bottleneck')(x_input)\n",
        "  x = Multiply()([x, x_mask])\n",
        "  x = Dense(units=1, name='output')(x)\n",
        "\n",
        "  model = Model(inputs=[x_input, x_mask], outputs=x)\n",
        "  optimizer = Adam(learning_rate=1e-2)\n",
        "  model.compile(optimizer=optimizer, loss='mean_squared_error')\n",
        "\n",
        "  # Note: model takes as input a list of x_input and a mask of 1s and 0s\n",
        "  return model\n",
        "\n",
        "\n",
        "def generate_data(model, num_input_variables=48, num_hidden_units=8, num_samples=1000, iunit_inactivated=None):\n",
        "  # generates data (input, hidden unit responses, and output) for a given model\n",
        "  #     (can silence a particular hidden unit, which could potentially lead to different output)\n",
        "  #\n",
        "  # INPUT:\n",
        "  #  model: (Keras instance), model of two-layer linear network (most likely the ground truth model)\n",
        "  #  num_input_variables: (int), number of input feature variables for X (default=48)\n",
        "  #  num_hidden_units: (int), number of hidden units in ground truth model (default=8)\n",
        "  #  num_samples: (int), number of samples to generate (default=1000)\n",
        "  #  iunit_inactivated: (0 to num_hidden_units-1, or 'None'), index of hidden unit to be inactivated\n",
        "  #            if None or > num_hidden_units - 1, no units are inactivated\n",
        "  #\n",
        "  # OUTPUT:\n",
        "  #\tx_input: (num_samples, num_input_variables), generated input features\n",
        "  #\tresponses_bottleneck: (num_samples, num_hidden_units), hidden unit responses to x_input\n",
        "  #\ty: (num_samples,), output behavior (with a small amount of added Gaussian noise)\n",
        "\n",
        "  x_input = np.random.standard_normal(size=(num_samples, num_input_variables))\n",
        "  mask_input = np.ones((num_samples,num_hidden_units))\n",
        "\n",
        "  responses_bottleneck = get_hiddenunit_responses(model, x_input, num_hidden_units)\n",
        "  # model_hiddenunits = Model(inputs=model.input, outputs=model.get_layer('bottleneck').output)\n",
        "  # responses_bottleneck = model_hiddenunits.predict([x_input, mask_input], verbose=False)\n",
        "\n",
        "  if iunit_inactivated != None and iunit_inactivated < num_hidden_units and iunit_inactivated >= 0:\n",
        "    mask_input[:,iunit_inactivated] = 0.\n",
        "\n",
        "  y = np.squeeze(model.predict([x_input, mask_input], verbose=False))\n",
        "  y = y + 0.5 * np.random.standard_normal((y.shape)) # add Gaussian noise\n",
        "\n",
        "  return x_input, responses_bottleneck, y\n",
        "\n",
        "\n",
        "def get_hiddenunit_responses(model, x_input, num_hidden_units=8):\n",
        "  # gets hidden unit responses from model to input features x_input\n",
        "  #\n",
        "  # INPUT:\n",
        "  #  model: (Keras instance), model of two-layer linear network (most likely the ground truth model)\n",
        "  #  x_input: (num_samples, num_input_variables), input features\n",
        "  #  num_hidden_units: (int), number of hidden units in middle layer (default=8)\n",
        "  #\n",
        "  # OUTPUT:\n",
        "  #  responses_bottleneck: (num_samples, num_hidden_units), hidden unit responses to x_input\n",
        "\n",
        "  num_samples = x_input.shape[0]\n",
        "  mask_input = np.ones((num_samples, num_hidden_units))\n",
        "  model_hiddenunits = Model(inputs=model.input, outputs=model.get_layer('bottleneck').output)\n",
        "  responses_bottleneck = model_hiddenunits.predict([x_input, mask_input], verbose=False)\n",
        "\n",
        "  return responses_bottleneck\n",
        "\n",
        "\n",
        "def compute_R2(y_test, y_hat, R2_type='cod'):\n",
        "  # computes fraction of explained variance (R^2)\n",
        "  #\n",
        "  # INPUT:\n",
        "  #\t y_test: (num_samples,), observed output (from ground truth model)\n",
        "  #\t y_hat: (num_samples,), model predictions of observed output\n",
        "  #\t R2_type: ('cod' or 'pearson'),\n",
        "  #\t\t\t\t-->coefficient of determination (R^2 can be negative); pearson-->rho^2 (always positive)\n",
        "  # OUTPUT:\n",
        "  #  R2: (float), prediction performance between y and y_hat\n",
        "\n",
        "  if R2_type == 'cod':\n",
        "    R2 = 1 - np.sum((y_hat - y_test)**2) / np.sum((y_test - np.mean(y_test))**2)\n",
        "  else:\n",
        "    R2 = np.corrcoef(y_test, y_hat)[0,1]**2\n",
        "\n",
        "  return R2"
      ],
      "metadata": {
        "id": "7DJjtG0IlIM7"
      },
      "execution_count": 2,
      "outputs": []
    },
    {
      "cell_type": "markdown",
      "source": [
        "# Generate data from ground truth model\n",
        "\n",
        "Ground truth model: 48 input vars., 8 hidden units, 1 output unit\n",
        "\n",
        "Training data:\n",
        "\n",
        "\n",
        "*   input X ~ standard normal distribution\n",
        "*   1k samples for control (no inactivation)\n",
        "*   8 x 1k samples for inactivated hidden units (1k/hidden unit)\n",
        "\n",
        "Test data:\n",
        "\n",
        "Exact same as training data.\n",
        "\n",
        "\n",
        "\n"
      ],
      "metadata": {
        "id": "3_gaRKxgjy5y"
      }
    },
    {
      "cell_type": "code",
      "source": [
        "# Initialize ground truth model and generate training and test data\n",
        "\n",
        "seed_index = 314159\n",
        "utils.set_random_seed(seed_index)\n",
        "\n",
        "## initialize ground truth network and generate data\n",
        "num_input_variables = 48\n",
        "num_hidden_units = 8\n",
        "num_samples = 1000  # num samples per dataset\n",
        "\n",
        "model_ground_truth = initialize_network(num_input_variables, num_hidden_units)\n",
        "\n",
        "## generate training data\n",
        "Xs_train = []  # datasets kept as lists, where Xs_train[i] corresponds\n",
        "ys_train = []  #     to the ith hidden unit inactivated\n",
        "               #     (and Xs_train[num_hidden_units+1] --> control)\n",
        "\n",
        "for iunit in range(num_hidden_units+1):  # +1 for control\n",
        "  X, _, y = generate_data(model_ground_truth, num_input_variables, num_hidden_units, iunit_inactivated=iunit)\n",
        "  Xs_train.append(X)\n",
        "  ys_train.append(y)\n",
        "\n",
        "# generate test data\n",
        "Xs_test = []\n",
        "responses_test = []\n",
        "ys_test = []\n",
        "\n",
        "for iunit in range(num_hidden_units+1):\n",
        "  X, responses_bottleneck, y = generate_data(model_ground_truth, num_input_variables, num_hidden_units, iunit_inactivated=iunit)\n",
        "  Xs_test.append(X)\n",
        "  responses_test.append(responses_bottleneck)\n",
        "  ys_test.append(y)\n",
        "\n",
        "# unit test: check sizes\n",
        "print('Xs_train length =', end=' ')\n",
        "print(len(Xs_train))\n",
        "print('X_train shape: ', end=' ')\n",
        "print(Xs_train[-1].shape)\n",
        "print('ys_train length =', end=' ')\n",
        "print(len(ys_train))\n",
        "print('y_train shape: ', end=' ')\n",
        "print(ys_train[-1].shape)\n",
        "print('Xs_test length =', end=' ')\n",
        "print(len(Xs_test))\n",
        "print('X_test shape: ', end=' ')\n",
        "print(Xs_test[-1].shape)\n",
        "print('responses_test length =', end=' ')\n",
        "print(len(responses_test))\n",
        "print('responses_test shape: ', end=' ')\n",
        "print(responses_test[-1].shape)\n",
        "print('ys_test length =', end=' ')\n",
        "print(len(ys_test))\n",
        "print('y_test shape: ', end=' ')\n",
        "print(ys_test[-1].shape)\n"
      ],
      "metadata": {
        "colab": {
          "base_uri": "https://localhost:8080/"
        },
        "id": "synfN8truUPH",
        "outputId": "f8fb2ad4-6700-4d21-d350-25d566c8f2d6"
      },
      "execution_count": 3,
      "outputs": [
        {
          "output_type": "stream",
          "name": "stdout",
          "text": [
            "Xs_train length = 9\n",
            "X_train shape:  (1000, 48)\n",
            "ys_train length = 9\n",
            "y_train shape:  (1000,)\n",
            "Xs_test length = 9\n",
            "X_test shape:  (1000, 48)\n",
            "responses_test length = 9\n",
            "responses_test shape:  (1000, 8)\n",
            "ys_test length = 9\n",
            "y_test shape:  (1000,)\n"
          ]
        }
      ]
    },
    {
      "cell_type": "markdown",
      "source": [
        "# Train KO network\n",
        "\n",
        "Use knockout training to align the hidden units of a randomly-initialized two-layer linear network to those of the ground truth model."
      ],
      "metadata": {
        "id": "eGdV8QSuzOpw"
      }
    },
    {
      "cell_type": "code",
      "source": [
        "## train KO model\n",
        "\n",
        "K.clear_session()  # clears space (including ground truth model)\n",
        "utils.set_random_seed(seed_index)\n",
        "model_KO = initialize_network(num_input_variables, num_hidden_units)\n",
        "\n",
        "num_epochs = 15\n",
        "for iepoch in range(num_epochs): # number of passes through entire dataset\n",
        "  for iunit in range(num_hidden_units+1): # +1 for control\n",
        "    # create mask\n",
        "    num_samples = Xs_train[iunit].shape[0]\n",
        "    mask = np.ones((num_samples, num_hidden_units))\n",
        "    if iunit < num_hidden_units:  # if not control\n",
        "      mask[:,iunit] = 0.\n",
        "\n",
        "    model_KO.fit([Xs_train[iunit], mask], ys_train[iunit], batch_size=64, verbose=False)\n",
        "\n",
        "  # check perf on test set, control data and one silenced set\n",
        "  mask = np.ones((num_samples, num_hidden_units))\n",
        "  y_hat = np.squeeze(model_KO.predict([Xs_test[-1], mask], verbose=False))\n",
        "  R2_control = compute_R2(ys_test[-1], y_hat, R2_type='cod')\n",
        "\n",
        "  mask[:,0] = 0.\n",
        "  y_hat = np.squeeze(model_KO.predict([Xs_test[0], mask], verbose=False))\n",
        "  R2_unit0 = compute_R2(ys_test[0], y_hat, R2_type='cod')\n",
        "  print('epoch {:d}, R2 control = {:f}, R2 unit0 = {:f}'.format(iepoch, R2_control, R2_unit0))\n"
      ],
      "metadata": {
        "colab": {
          "base_uri": "https://localhost:8080/"
        },
        "id": "G9LSGxvN1GV1",
        "outputId": "dca19dd6-7dc3-452b-e752-3a503715341b"
      },
      "execution_count": 4,
      "outputs": [
        {
          "output_type": "stream",
          "name": "stdout",
          "text": [
            "epoch 0, R2 control = 0.918687, R2 unit0 = 0.877536\n",
            "epoch 1, R2 control = 0.915092, R2 unit0 = 0.865875\n",
            "epoch 2, R2 control = 0.916752, R2 unit0 = 0.882117\n",
            "epoch 3, R2 control = 0.915994, R2 unit0 = 0.889610\n",
            "epoch 4, R2 control = 0.917938, R2 unit0 = 0.893830\n",
            "epoch 5, R2 control = 0.917519, R2 unit0 = 0.892894\n",
            "epoch 6, R2 control = 0.917133, R2 unit0 = 0.893012\n",
            "epoch 7, R2 control = 0.918825, R2 unit0 = 0.894734\n",
            "epoch 8, R2 control = 0.921098, R2 unit0 = 0.896500\n",
            "epoch 9, R2 control = 0.922578, R2 unit0 = 0.897258\n",
            "epoch 10, R2 control = 0.922640, R2 unit0 = 0.897439\n",
            "epoch 11, R2 control = 0.921735, R2 unit0 = 0.897480\n",
            "epoch 12, R2 control = 0.920478, R2 unit0 = 0.897860\n",
            "epoch 13, R2 control = 0.919575, R2 unit0 = 0.899168\n",
            "epoch 14, R2 control = 0.919823, R2 unit0 = 0.899714\n"
          ]
        }
      ]
    },
    {
      "cell_type": "markdown",
      "source": [
        "# Evaluate KO network on behavior + response prediction\n",
        "\n",
        "Given the trained KO network, evaluate how well it predicts\n",
        "output behavior (including silenced sessions)\n",
        "as well as the responses of hidden unit activity of the\n",
        "ground truth model.\n"
      ],
      "metadata": {
        "id": "50E2LDGF2gZc"
      }
    },
    {
      "cell_type": "code",
      "execution_count": 5,
      "metadata": {
        "colab": {
          "base_uri": "https://localhost:8080/"
        },
        "id": "QqN0kipUiHrY",
        "outputId": "82a42a5e-b60a-43ea-aa94-91b41ed1c98e"
      },
      "outputs": [
        {
          "output_type": "stream",
          "name": "stdout",
          "text": [
            "behavior prediction, unit 0, behavior R2 = 0.899714\n",
            "behavior prediction, unit 1, behavior R2 = 0.902678\n",
            "behavior prediction, unit 2, behavior R2 = 0.907457\n",
            "behavior prediction, unit 3, behavior R2 = 0.889709\n",
            "behavior prediction, unit 4, behavior R2 = 0.888016\n",
            "behavior prediction, unit 5, behavior R2 = 0.918353\n",
            "behavior prediction, unit 6, behavior R2 = 0.914779\n",
            "behavior prediction, unit 7, behavior R2 = 0.868147\n",
            "behavior prediction, control, behavior R2 = 0.919823\n",
            "unit 0, neural R2 = 0.932000\n",
            "unit 1, neural R2 = 0.812542\n",
            "unit 2, neural R2 = 0.773541\n",
            "unit 3, neural R2 = 0.907699\n",
            "unit 4, neural R2 = 0.940937\n",
            "unit 5, neural R2 = 0.007167\n",
            "unit 6, neural R2 = 0.399627\n",
            "unit 7, neural R2 = 0.894905\n"
          ]
        }
      ],
      "source": [
        "## behavior prediction performance for KO network\n",
        "R2s_behavior_KO = []\n",
        "for iunit in range(num_hidden_units+1):\n",
        "  num_samples = Xs_test[iunit].shape[0]\n",
        "  mask = np.ones((num_samples, num_hidden_units))\n",
        "  if iunit < num_hidden_units:  # hidden unit was silenced (not control)\n",
        "    mask[:,iunit] = 0.\n",
        "\n",
        "  y_hat = np.squeeze(model_KO.predict([Xs_test[iunit], mask], verbose=False))\n",
        "  R2 = compute_R2(ys_test[iunit], y_hat, R2_type='cod')\n",
        "    # we use coefficient of determination \"cod\" here to account for\n",
        "    #  differences in overall mean, std. dev., and sign\n",
        "\n",
        "  if iunit < num_hidden_units:\n",
        "    print('behavior prediction, unit {:d}, behavior R2 = {:f}'.format(iunit, R2))\n",
        "  else:\n",
        "    print('behavior prediction, control, behavior R2 = {:f}'.format(R2))\n",
        "    # (we will plot these later)\n",
        "\n",
        "  R2s_behavior_KO.append(R2)\n",
        "\n",
        "\n",
        "## neural prediction performance for KO network\n",
        "# (tested on control data --- e.g., recording activity of control animal)\n",
        "R2s_neural_KO = []\n",
        "for iunit in range(num_hidden_units):\n",
        "  responses_model = get_hiddenunit_responses(model_KO, Xs_test[-1], num_hidden_units)\n",
        "\n",
        "  R2 = compute_R2(responses_test[-1][:,iunit], responses_model[:,iunit], R2_type='pearson')\n",
        "    # we use pearson correlation**2 here to ignore differences\n",
        "    #  in overall mean, std. dev., and sign, as we are not interested\n",
        "    #  in predicting, e.g., average firing rates but rather the information content\n",
        "\n",
        "  print('unit {:d}, neural R2 = {:f}'.format(iunit, R2))\n",
        "  R2s_neural_KO.append(R2)\n"
      ]
    },
    {
      "cell_type": "markdown",
      "source": [
        "# Train noKO network\n",
        "\n",
        "Train a two-layer linear network in the exact same was as the KO network\n",
        "except *without* knockout training. This is the no-knockout (noKO) network.\n",
        "\n",
        "The noKO network represents the null hypothesis that no change in behavior occurs between silencing/inactivating hidden units of the ground truth model and control data. For hidden units that do *not* contribute to behavior, we would expect the noKO network to predict behavior better than or on par with the KO network for sessions in which these hidden units have been inactivated.\n",
        "\n",
        "The noKO network provides an important *relative* comparison for knockout training.  In our paper, we also explore a network with dropout training (in which hidden units are randomly inactivated during training)---this is a regularization technique to prevent overfitting and can also be considered an important relative comparison for the KO network."
      ],
      "metadata": {
        "id": "nSnlyWfeRmx1"
      }
    },
    {
      "cell_type": "code",
      "source": [
        "## train noKO model\n",
        "\n",
        "K.clear_session()  # clears space (including ground truth model)\n",
        "utils.set_random_seed(seed_index)\n",
        "model_noKO = initialize_network(num_input_variables, num_hidden_units)\n",
        "\n",
        "num_epochs = 15\n",
        "for iepoch in range(num_epochs): # number of passes through entire dataset\n",
        "  for iunit in range(num_hidden_units+1): # +1 for control\n",
        "    # create mask\n",
        "    num_samples = Xs_train[iunit].shape[0]\n",
        "    mask = np.ones((num_samples, num_hidden_units)) # all ones -- no masking\n",
        "\n",
        "    model_noKO.fit([Xs_train[iunit], mask], ys_train[iunit], batch_size=64, verbose=False)\n",
        "\n",
        "  # check perf on test set, control data and one silenced set\n",
        "  mask = np.ones((num_samples, num_hidden_units))\n",
        "  y_hat = np.squeeze(model_noKO.predict([Xs_test[-1], mask], verbose=False))\n",
        "  R2_control = compute_R2(ys_test[-1], y_hat, R2_type='cod')\n",
        "\n",
        "  y_hat = np.squeeze(model_noKO.predict([Xs_test[0], mask], verbose=False))\n",
        "  R2_unit0 = compute_R2(ys_test[0], y_hat, R2_type='cod')\n",
        "  print('epoch {:d}, R2 control = {:f}, R2 unit0 = {:f}'.format(iepoch, R2_control, R2_unit0))"
      ],
      "metadata": {
        "colab": {
          "base_uri": "https://localhost:8080/"
        },
        "id": "qnOEU0jlR4f-",
        "outputId": "c9c3d273-6e69-441c-c1f9-d43aa0b20717"
      },
      "execution_count": 6,
      "outputs": [
        {
          "output_type": "stream",
          "name": "stdout",
          "text": [
            "epoch 0, R2 control = 0.879458, R2 unit0 = 0.486976\n",
            "epoch 1, R2 control = 0.892047, R2 unit0 = 0.448017\n",
            "epoch 2, R2 control = 0.891576, R2 unit0 = 0.383149\n",
            "epoch 3, R2 control = 0.880737, R2 unit0 = 0.361716\n",
            "epoch 4, R2 control = 0.877788, R2 unit0 = 0.364564\n",
            "epoch 5, R2 control = 0.881994, R2 unit0 = 0.325933\n",
            "epoch 6, R2 control = 0.885763, R2 unit0 = 0.356546\n",
            "epoch 7, R2 control = 0.892750, R2 unit0 = 0.357778\n",
            "epoch 8, R2 control = 0.887602, R2 unit0 = 0.330237\n",
            "epoch 9, R2 control = 0.894646, R2 unit0 = 0.354952\n",
            "epoch 10, R2 control = 0.885627, R2 unit0 = 0.352474\n",
            "epoch 11, R2 control = 0.889935, R2 unit0 = 0.361838\n",
            "epoch 12, R2 control = 0.894086, R2 unit0 = 0.354927\n",
            "epoch 13, R2 control = 0.894457, R2 unit0 = 0.337628\n",
            "epoch 14, R2 control = 0.891221, R2 unit0 = 0.344395\n"
          ]
        }
      ]
    },
    {
      "cell_type": "markdown",
      "source": [
        "# Evaluate noKO network on behavior + response prediction\n",
        "\n",
        "Given the trained noKO network, evaluate how well it predicts\n",
        "output behavior (including silenced sessions)\n",
        "as well as the responses of hidden unit activity of the\n",
        "ground truth model.\n",
        "\n",
        "Note: To predict output behavior of models with inactivated hidden units,\n",
        "we still do not inactivate any hidden unit of the noKO network, keeping\n",
        "training and test contexts the same. The noKO network assumes no hidden\n",
        "unit has been inactivated."
      ],
      "metadata": {
        "id": "8OBaclowl222"
      }
    },
    {
      "cell_type": "code",
      "source": [
        "## behavior prediction performance for noKO network\n",
        "R2s_behavior_noKO = []\n",
        "for iunit in range(num_hidden_units+1):\n",
        "  num_samples = Xs_test[iunit].shape[0]\n",
        "  mask = np.ones((num_samples, num_hidden_units))\n",
        "  y_hat = np.squeeze(model_noKO.predict([Xs_test[iunit], mask], verbose=False))\n",
        "\n",
        "  R2 = compute_R2(ys_test[iunit], y_hat, R2_type='cod')\n",
        "\n",
        "  if iunit < num_hidden_units:\n",
        "    print('behavior prediction, unit {:d}, behavior R2 = {:f}'.format(iunit, R2))\n",
        "  else:\n",
        "    print('behavior prediction, control, behavior R2 = {:f}'.format(R2))\n",
        "    # (we will plot these later)\n",
        "\n",
        "  R2s_behavior_noKO.append(R2)\n",
        "\n",
        "\n",
        "## neural prediction performance for noKO network\n",
        "# (tested on control data --- e.g., recording activity of control animal)\n",
        "R2s_neural_noKO = []\n",
        "for iunit in range(num_hidden_units):\n",
        "  responses_model = get_hiddenunit_responses(model_noKO, Xs_test[-1], num_hidden_units)\n",
        "\n",
        "  R2 = compute_R2(responses_test[-1][:,iunit], responses_model[:,iunit], R2_type='pearson')\n",
        "\n",
        "  print('unit {:d}, neural R2 = {:f}'.format(iunit, R2))\n",
        "  R2s_neural_noKO.append(R2)"
      ],
      "metadata": {
        "colab": {
          "base_uri": "https://localhost:8080/"
        },
        "id": "NxM5fsuZovr3",
        "outputId": "cd861038-535e-41c4-d404-7d7f654694b2"
      },
      "execution_count": 7,
      "outputs": [
        {
          "output_type": "stream",
          "name": "stdout",
          "text": [
            "behavior prediction, unit 0, behavior R2 = 0.344395\n",
            "behavior prediction, unit 1, behavior R2 = 0.722290\n",
            "behavior prediction, unit 2, behavior R2 = 0.846015\n",
            "behavior prediction, unit 3, behavior R2 = 0.604766\n",
            "behavior prediction, unit 4, behavior R2 = 0.401430\n",
            "behavior prediction, unit 5, behavior R2 = 0.890041\n",
            "behavior prediction, unit 6, behavior R2 = 0.870887\n",
            "behavior prediction, unit 7, behavior R2 = 0.742711\n",
            "behavior prediction, control, behavior R2 = 0.891221\n",
            "unit 0, neural R2 = 0.334096\n",
            "unit 1, neural R2 = 0.000779\n",
            "unit 2, neural R2 = 0.006717\n",
            "unit 3, neural R2 = 0.017309\n",
            "unit 4, neural R2 = 0.242629\n",
            "unit 5, neural R2 = 0.038958\n",
            "unit 6, neural R2 = 0.000063\n",
            "unit 7, neural R2 = 0.060546\n"
          ]
        }
      ]
    },
    {
      "cell_type": "markdown",
      "source": [
        "# Plot results"
      ],
      "metadata": {
        "id": "cW7WnFCKqJvt"
      }
    },
    {
      "cell_type": "code",
      "source": [
        "## plot R2 results\n",
        "f = plt.figure(figsize=(4,4))\n",
        "\n",
        "# R2s behavior\n",
        "plt.subplot(2,1,1)\n",
        "plt.plot(R2s_behavior_KO, '.r', mew=0., ms=10, label='KO')\n",
        "plt.plot(R2s_behavior_noKO, '.k', mew=0., ms=10, label='noKO')\n",
        "plt.xlabel('unit inactivated')\n",
        "plt.ylabel('behavior $R^2$')\n",
        "plt.xlim([-0.5,8.5])\n",
        "plt.xticks(np.arange(9), labels=[i for i in range(8)] + ['control'])\n",
        "\n",
        "plt.legend()\n",
        "\n",
        "# R2s neural\n",
        "plt.subplot(2,1,2)\n",
        "plt.plot(R2s_neural_KO, '.r', mew=0., ms=10)\n",
        "plt.plot(R2s_neural_noKO, '.k', mew=0., ms=10)\n",
        "plt.xlabel('unit inactivated')\n",
        "plt.ylabel('neural $R^2$')\n",
        "plt.xlim([-0.5,8.5])  # include control spot so it matches with R2s_behavior\n",
        "plt.xticks(np.arange(8), labels=np.arange(8))\n",
        "\n",
        "f.show()\n"
      ],
      "metadata": {
        "colab": {
          "base_uri": "https://localhost:8080/",
          "height": 388
        },
        "id": "Zyi4ICcOR5C3",
        "outputId": "07a664a7-7a62-4370-e106-ae41d6bb640d"
      },
      "execution_count": 8,
      "outputs": [
        {
          "output_type": "display_data",
          "data": {
            "text/plain": [
              "<Figure size 400x400 with 2 Axes>"
            ],
            "image/png": "[encoded data removed]"
          },
          "metadata": {}
        }
      ]
    },
    {
      "cell_type": "markdown",
      "source": [
        "**Top plot:** Behavior $R^2$ versus the index of the hidden unit inactivated in the ground truth model. The KO network (red dots) beter predicts behavior of the inactivated units versus the noKO network (black dots). For control data, both the KO and noKO networks perform similarly ('control', black and red dots overlap).\n",
        "\n",
        "**Bottom plot:** Neural $R^2$ versus the index of the hidden unit inactivated in the ground truth model. The KO network is able to recover the responses of the hidden units versus the noKO network (red dots above black dots). For units 5 and 6, the red and black dots are closer together. These hidden units likely contribute little to behavior (making it difficult for knockout training to predict their responses)---indeed, the KO and noKO networks predict the behavior of these inactivated units about the same (top plot, units 5 and 6, red and black dots overlap).\n",
        "\n",
        "Thus, only the KO network successfully recovered the unit-perturbed behavior and responses of the hidden units."
      ],
      "metadata": {
        "id": "mlipLuk4q5_o"
      }
    }
  ]
}